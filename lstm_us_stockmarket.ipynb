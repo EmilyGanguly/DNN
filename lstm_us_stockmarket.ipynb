{
  "cells": [
    {
      "cell_type": "markdown",
      "id": "9bda93ba",
      "metadata": {
        "id": "9bda93ba"
      },
      "source": [
        "## Group No 193\n",
        "\n",
        "## Group Member Names:\n",
        "1. Emily Ganguly (2023AC05471)\n",
        "2.\n",
        "3.\n",
        "4.\n",
        "\n",
        "## Journal used for the implemetation\n",
        "Journal title: Predicting stock market index using LSTM\n",
        "\n",
        "Authors:Hum Nath Bhandari, Binod Rimal, Nawa Raj Pokhrel, Ramchandra Rimal, Keshab R. Dahal, Rajendra K.C. Khatri\n",
        "\n",
        "Journal Name: Elsevier\n",
        "\n",
        "Year: 2022"
      ]
    },
    {
      "cell_type": "markdown",
      "id": "0c7f7028",
      "metadata": {
        "id": "0c7f7028"
      },
      "source": [
        "# 1. Import the required libraries"
      ]
    },
    {
      "cell_type": "code",
      "execution_count": 18,
      "id": "1a096390",
      "metadata": {
        "colab": {
          "base_uri": "https://localhost:8080/"
        },
        "id": "1a096390",
        "outputId": "cbe9913d-ac07-4c8d-c05c-b4b2008e0ad0"
      },
      "outputs": [
        {
          "output_type": "stream",
          "name": "stdout",
          "text": [
            "Requirement already satisfied: yfinance in /usr/local/lib/python3.11/dist-packages (0.2.54)\n",
            "Requirement already satisfied: pandas>=1.3.0 in /usr/local/lib/python3.11/dist-packages (from yfinance) (2.2.2)\n",
            "Requirement already satisfied: numpy>=1.16.5 in /usr/local/lib/python3.11/dist-packages (from yfinance) (1.26.4)\n",
            "Requirement already satisfied: requests>=2.31 in /usr/local/lib/python3.11/dist-packages (from yfinance) (2.32.3)\n",
            "Requirement already satisfied: multitasking>=0.0.7 in /usr/local/lib/python3.11/dist-packages (from yfinance) (0.0.11)\n",
            "Requirement already satisfied: platformdirs>=2.0.0 in /usr/local/lib/python3.11/dist-packages (from yfinance) (4.3.6)\n",
            "Requirement already satisfied: pytz>=2022.5 in /usr/local/lib/python3.11/dist-packages (from yfinance) (2025.1)\n",
            "Requirement already satisfied: frozendict>=2.3.4 in /usr/local/lib/python3.11/dist-packages (from yfinance) (2.4.6)\n",
            "Requirement already satisfied: peewee>=3.16.2 in /usr/local/lib/python3.11/dist-packages (from yfinance) (3.17.9)\n",
            "Requirement already satisfied: beautifulsoup4>=4.11.1 in /usr/local/lib/python3.11/dist-packages (from yfinance) (4.13.3)\n",
            "Requirement already satisfied: soupsieve>1.2 in /usr/local/lib/python3.11/dist-packages (from beautifulsoup4>=4.11.1->yfinance) (2.6)\n",
            "Requirement already satisfied: typing-extensions>=4.0.0 in /usr/local/lib/python3.11/dist-packages (from beautifulsoup4>=4.11.1->yfinance) (4.12.2)\n",
            "Requirement already satisfied: python-dateutil>=2.8.2 in /usr/local/lib/python3.11/dist-packages (from pandas>=1.3.0->yfinance) (2.8.2)\n",
            "Requirement already satisfied: tzdata>=2022.7 in /usr/local/lib/python3.11/dist-packages (from pandas>=1.3.0->yfinance) (2025.1)\n",
            "Requirement already satisfied: charset-normalizer<4,>=2 in /usr/local/lib/python3.11/dist-packages (from requests>=2.31->yfinance) (3.4.1)\n",
            "Requirement already satisfied: idna<4,>=2.5 in /usr/local/lib/python3.11/dist-packages (from requests>=2.31->yfinance) (3.10)\n",
            "Requirement already satisfied: urllib3<3,>=1.21.1 in /usr/local/lib/python3.11/dist-packages (from requests>=2.31->yfinance) (2.3.0)\n",
            "Requirement already satisfied: certifi>=2017.4.17 in /usr/local/lib/python3.11/dist-packages (from requests>=2.31->yfinance) (2025.1.31)\n",
            "Requirement already satisfied: six>=1.5 in /usr/local/lib/python3.11/dist-packages (from python-dateutil>=2.8.2->pandas>=1.3.0->yfinance) (1.17.0)\n",
            "Requirement already satisfied: fredapi in /usr/local/lib/python3.11/dist-packages (0.5.2)\n",
            "Requirement already satisfied: pandas in /usr/local/lib/python3.11/dist-packages (from fredapi) (2.2.2)\n",
            "Requirement already satisfied: numpy>=1.23.2 in /usr/local/lib/python3.11/dist-packages (from pandas->fredapi) (1.26.4)\n",
            "Requirement already satisfied: python-dateutil>=2.8.2 in /usr/local/lib/python3.11/dist-packages (from pandas->fredapi) (2.8.2)\n",
            "Requirement already satisfied: pytz>=2020.1 in /usr/local/lib/python3.11/dist-packages (from pandas->fredapi) (2025.1)\n",
            "Requirement already satisfied: tzdata>=2022.7 in /usr/local/lib/python3.11/dist-packages (from pandas->fredapi) (2025.1)\n",
            "Requirement already satisfied: six>=1.5 in /usr/local/lib/python3.11/dist-packages (from python-dateutil>=2.8.2->pandas->fredapi) (1.17.0)\n"
          ]
        }
      ],
      "source": [
        "##---------Type the code below this line------------------##\n",
        "!pip install yfinance\n",
        "!pip install fredapi\n",
        "import yfinance as yf\n",
        "import pandas as pd\n",
        "import numpy as np\n",
        "import matplotlib.pyplot as plt\n",
        "import seaborn as sns\n",
        "from fredapi import Fred\n",
        "from sklearn.preprocessing import MinMaxScaler\n",
        "from tensorflow.keras.models import Sequential\n",
        "from tensorflow.keras.layers import LSTM, Dense\n",
        "from tensorflow.keras.optimizers import Adagrad\n",
        "from sklearn.model_selection import train_test_split\n",
        "from sklearn.metrics import mean_squared_error, mean_absolute_percentage_error, r2_score, accuracy_score, precision_score, recall_score, f1_score, confusion_matrix"
      ]
    },
    {
      "cell_type": "markdown",
      "id": "3cc8e0cb",
      "metadata": {
        "id": "3cc8e0cb"
      },
      "source": [
        "# 2. Data Acquisition\n",
        "\n",
        "For the problem identified by you, students have to find the data source themselves from any data source.\n",
        "\n",
        "Provide the URL of the data used.\n",
        "\n",
        "Write Code for converting the above downloaded data into a form suitable for DL\n",
        "\n"
      ]
    },
    {
      "cell_type": "code",
      "execution_count": 5,
      "id": "4b51d895",
      "metadata": {
        "id": "4b51d895",
        "colab": {
          "base_uri": "https://localhost:8080/"
        },
        "outputId": "0c510ac4-af3a-471a-d966-fb30de0a5454"
      },
      "outputs": [
        {
          "output_type": "stream",
          "name": "stderr",
          "text": [
            "[*********************100%***********************]  1 of 1 completed\n",
            "[*********************100%***********************]  1 of 1 completed\n"
          ]
        },
        {
          "output_type": "stream",
          "name": "stdout",
          "text": [
            "Final Data Sample:\n",
            "            CBOE_VIX_Open  CBOE_VIX_Close  USD_Index_Open  USD_Index_Close  \\\n",
            "Date                                                                         \n",
            "2006-01-03       0.043974        0.027192        0.608205         0.579161   \n",
            "2006-01-04       0.029995        0.030320        0.576261         0.557259   \n",
            "2006-01-05       0.032845        0.029504        0.561854         0.563204   \n",
            "2006-01-06       0.030130        0.025289        0.564359         0.548185   \n",
            "2006-01-09       0.031759        0.027056        0.552145         0.560701   \n",
            "\n",
            "            Interest_Rate  Unemployment_Rate  Consumer_Sentiment_Index  \\\n",
            "Date                                                                     \n",
            "2006-01-03       0.852207           0.107143                  0.677632   \n",
            "2006-01-04       0.852207           0.107143                  0.677632   \n",
            "2006-01-05       0.852207           0.107143                  0.677632   \n",
            "2006-01-06       0.852207           0.107143                  0.677632   \n",
            "2006-01-09       0.852207           0.107143                  0.677632   \n",
            "\n",
            "            VIX_EMA_fast  VIX_EMA_slow  VIX_MACD  VIX_MACD_signal  \\\n",
            "Date                                                                \n",
            "2006-01-03      0.027192      0.027192  0.000000         0.000000   \n",
            "2006-01-04      0.027673      0.027424  0.000249         0.000050   \n",
            "2006-01-05      0.027955      0.027578  0.000377         0.000115   \n",
            "2006-01-06      0.027545      0.027409  0.000136         0.000120   \n",
            "2006-01-09      0.027470      0.027382  0.000087         0.000113   \n",
            "\n",
            "            USD_EMA_fast  USD_EMA_slow  USD_MACD  USD_MACD_signal    VIX_RSI  \\\n",
            "Date                                                                           \n",
            "2006-01-03      0.579161      0.579161  0.000000         0.000000  73.764899   \n",
            "2006-01-04      0.575792      0.577539 -0.001747        -0.000349  73.764899   \n",
            "2006-01-05      0.573855      0.576477 -0.002622        -0.000804  73.764899   \n",
            "2006-01-06      0.569906      0.574381 -0.004475        -0.001538  73.764899   \n",
            "2006-01-09      0.568490      0.573368 -0.004878        -0.002206  73.764899   \n",
            "\n",
            "              USD_RSI  \n",
            "Date                   \n",
            "2006-01-03  31.861887  \n",
            "2006-01-04  31.861887  \n",
            "2006-01-05  31.861887  \n",
            "2006-01-06  31.861887  \n",
            "2006-01-09  31.861887  \n"
          ]
        }
      ],
      "source": [
        "##---------Type the code below this line------------------##\n",
        "# Tickers for Yahoo Finance data\n",
        "tickers = {\n",
        "    'CBOE_VIX': '^VIX',\n",
        "    'USD_Index': 'DX-Y.NYB'\n",
        "}\n",
        "\n",
        "start_date = '2006-01-01'\n",
        "end_date = '2020-12-31'\n",
        "\n",
        "data = {}\n",
        "for key, ticker in tickers.items():\n",
        "    df = yf.download(ticker, start=start_date, end=end_date)[['Open', 'Close']]\n",
        "\n",
        "    # Ensure correct column renaming\n",
        "    df.columns = [f\"{key}_{col}\" for col in df.columns.get_level_values(0)]  # Fix multi-index issue\n",
        "\n",
        "    data[key] = df\n",
        "\n",
        "# Fetching data from FRED\n",
        "api_key = 'a2c4f309bff42cdc07990981c5a6c237'\n",
        "fred = Fred(api_key=api_key)\n",
        "\n",
        "series = {\n",
        "    'Interest_Rate': 'FEDFUNDS',\n",
        "    'Unemployment_Rate': 'UNRATE',\n",
        "    'Consumer_Sentiment_Index': 'UMCSENT'\n",
        "}\n",
        "\n",
        "fred_data = {}\n",
        "for key, series_id in series.items():\n",
        "    fred_series = fred.get_series(series_id, start_date, end_date)\n",
        "    fred_data[key] = pd.DataFrame(fred_series, columns=[key])  # Converting to DataFrame\n",
        "\n",
        "# Extracting dates from Yahoo Finance Data\n",
        "dates = data['CBOE_VIX'].index\n",
        "\n",
        "# Aligning FRED data with Yahoo Finance data\n",
        "for key in fred_data:\n",
        "    fred_data[key] = fred_data[key].reindex(dates).ffill()\n",
        "\n",
        "# Merging all data into one DataFrame\n",
        "combined_df = data['CBOE_VIX'].join([data['USD_Index']] + list(fred_data.values()))\n",
        "\n",
        "# Filling missing values\n",
        "combined_df = combined_df.ffill()\n",
        "combined_df = combined_df.ffill().bfill()\n",
        "\n",
        "# Scale data\n",
        "scaler = MinMaxScaler()\n",
        "scaled_data = scaler.fit_transform(combined_df)\n",
        "scaled_df = pd.DataFrame(scaled_data, columns=combined_df.columns, index=combined_df.index)\n",
        "\n",
        "# Function to calculate MACD\n",
        "def calculate_macd(df, column, prefix):\n",
        "    df[f'{prefix}_EMA_fast'] = df[column].ewm(span=12, adjust=False).mean()\n",
        "    df[f'{prefix}_EMA_slow'] = df[column].ewm(span=26, adjust=False).mean()\n",
        "    df[f'{prefix}_MACD'] = df[f'{prefix}_EMA_fast'] - df[f'{prefix}_EMA_slow']\n",
        "    df[f'{prefix}_MACD_signal'] = df[f'{prefix}_MACD'].ewm(span=9, adjust=False).mean()\n",
        "    return df\n",
        "\n",
        "# Function to calculate RSI\n",
        "def calculate_rsi(df, column, prefix, period=14):\n",
        "    delta = df[column].diff()\n",
        "    gain = (delta.where(delta > 0, 0)).rolling(window=period).mean()\n",
        "    loss = (-delta.where(delta < 0, 0)).rolling(window=period).mean()\n",
        "    rs = gain / loss\n",
        "    df[f'{prefix}_RSI'] = 100 - (100 / (1 + rs))\n",
        "    df[f'{prefix}_RSI'] = df[f'{prefix}_RSI'].ffill().bfill()\n",
        "    return df\n",
        "\n",
        "# Apply indicators\n",
        "scaled_df = calculate_macd(scaled_df, 'CBOE_VIX_Close', 'VIX')\n",
        "scaled_df = calculate_macd(scaled_df, 'USD_Index_Close', 'USD')\n",
        "scaled_df = calculate_rsi(scaled_df, 'CBOE_VIX_Close', 'VIX')\n",
        "scaled_df = calculate_rsi(scaled_df, 'USD_Index_Close', 'USD')\n",
        "\n",
        "# Save to CSV\n",
        "scaled_df.to_csv('financial_data_with_indicators.csv')\n",
        "\n",
        "print(\"Final Data Sample:\")\n",
        "print(scaled_df.head())"
      ]
    },
    {
      "cell_type": "markdown",
      "id": "102e0e36",
      "metadata": {
        "id": "102e0e36"
      },
      "source": [
        "# 3. Data Preparation\n",
        "\n",
        "Perform the data prepracessing that is required for the data that you have downloaded.\n",
        "\n",
        "\n",
        "This stage depends on the dataset that is used."
      ]
    },
    {
      "cell_type": "code",
      "execution_count": 8,
      "id": "dd3118eb",
      "metadata": {
        "id": "dd3118eb",
        "colab": {
          "base_uri": "https://localhost:8080/"
        },
        "outputId": "baa5d04c-f286-4d40-c56c-db313b55f8f8"
      },
      "outputs": [
        {
          "output_type": "stream",
          "name": "stdout",
          "text": [
            "Target variable: CBOE_VIX_Close. The first 5 values are - \n",
            "[0.04309993 0.03181508 0.03902107 0.04445954 0.03725356]\n"
          ]
        }
      ],
      "source": [
        "##---------Type the code below this line------------------##\n",
        "# Prepare data for LSTM\n",
        "def create_sequences(data, seq_length):\n",
        "    sequences = []\n",
        "    labels = []\n",
        "    for i in range(len(data) - seq_length):\n",
        "        sequences.append(data[i:i+seq_length])\n",
        "        labels.append(data[i+seq_length, 1])  # Predicting CBOE_VIX_Close\n",
        "    return np.array(sequences), np.array(labels)\n",
        "\n",
        "sequence_length = 30  # Using 30-day sequences\n",
        "X, y = create_sequences(scaled_data, sequence_length)\n",
        "\n",
        "## Split the data into training set and testing set\n",
        "##---------Type the code below this line------------------##\n",
        "X_train, X_test, y_train, y_test = train_test_split(X, y, test_size=0.2, random_state=42, shuffle=False)\n",
        "\n",
        "## Identify the target variables.\n",
        "##---------Type the code below this line------------------##\n",
        "print(\"Target variable: CBOE_VIX_Close. The first 5 values are - \")\n",
        "print(y_train[:5])"
      ]
    },
    {
      "cell_type": "raw",
      "id": "b310ceab",
      "metadata": {
        "id": "b310ceab"
      },
      "source": [
        "Report the feature representation that is being used for training the model.\n",
        "\n",
        "##---------Type below this line------------------##"
      ]
    },
    {
      "cell_type": "markdown",
      "id": "3ae0b5d2",
      "metadata": {
        "id": "3ae0b5d2"
      },
      "source": [
        "## 4. Deep Neural Network Architecture\n"
      ]
    },
    {
      "cell_type": "markdown",
      "id": "186bf4d7",
      "metadata": {
        "id": "186bf4d7"
      },
      "source": [
        "## 4.1 Design the architecture that you will be using\n",
        "\n",
        "* CNN / RNN / Transformer as per the journal referenced\n",
        "\n"
      ]
    },
    {
      "cell_type": "code",
      "execution_count": 9,
      "id": "868d7b27",
      "metadata": {
        "id": "868d7b27",
        "colab": {
          "base_uri": "https://localhost:8080/"
        },
        "outputId": "0b284eb4-306f-4166-ecce-b622425457a0"
      },
      "outputs": [
        {
          "output_type": "stream",
          "name": "stderr",
          "text": [
            "/usr/local/lib/python3.11/dist-packages/keras/src/layers/rnn/rnn.py:200: UserWarning: Do not pass an `input_shape`/`input_dim` argument to a layer. When using Sequential models, prefer using an `Input(shape)` object as the first layer in the model instead.\n",
            "  super().__init__(**kwargs)\n"
          ]
        }
      ],
      "source": [
        "##---------Type the code below this line------------------##\n",
        "# Building LSTM Model\n",
        "\n",
        "model = Sequential([\n",
        "    LSTM(150, input_shape=(X_train.shape[1], X_train.shape[2]), return_sequences=False),\n",
        "    Dense(1)\n",
        "])\n",
        "optimizer = Adagrad(learning_rate=0.01)\n",
        "model.compile(optimizer=optimizer, loss='mse')"
      ]
    },
    {
      "cell_type": "markdown",
      "id": "575f9e37",
      "metadata": {
        "id": "575f9e37"
      },
      "source": [
        "## 4.2 DNN Report\n",
        "\n",
        "Report the following and provide justification for the same.\n",
        "\n",
        "* Number of layers\n",
        "* Number of units in each layer\n",
        "* Total number of trainable parameters\n",
        "\n"
      ]
    },
    {
      "cell_type": "raw",
      "id": "f5cd8f8f",
      "metadata": {
        "id": "f5cd8f8f"
      },
      "source": [
        "##---------Type the answer below this line------------------##"
      ]
    },
    {
      "cell_type": "markdown",
      "id": "bdbc82a1",
      "metadata": {
        "id": "bdbc82a1"
      },
      "source": [
        "# 5. Training the model\n"
      ]
    },
    {
      "cell_type": "code",
      "execution_count": 15,
      "id": "a85e9754",
      "metadata": {
        "id": "a85e9754",
        "colab": {
          "base_uri": "https://localhost:8080/"
        },
        "outputId": "5b3b8cc6-89ac-4e87-8492-47d05dd35e8b"
      },
      "outputs": [
        {
          "output_type": "stream",
          "name": "stdout",
          "text": [
            "Epoch 1/50\n",
            "\u001b[1m188/188\u001b[0m \u001b[32m━━━━━━━━━━━━━━━━━━━━\u001b[0m\u001b[37m\u001b[0m \u001b[1m7s\u001b[0m 39ms/step - loss: 8.7435e-04 - val_loss: 0.0025\n",
            "Epoch 2/50\n",
            "\u001b[1m188/188\u001b[0m \u001b[32m━━━━━━━━━━━━━━━━━━━━\u001b[0m\u001b[37m\u001b[0m \u001b[1m6s\u001b[0m 31ms/step - loss: 9.9859e-04 - val_loss: 0.0022\n",
            "Epoch 3/50\n",
            "\u001b[1m188/188\u001b[0m \u001b[32m━━━━━━━━━━━━━━━━━━━━\u001b[0m\u001b[37m\u001b[0m \u001b[1m11s\u001b[0m 34ms/step - loss: 8.6246e-04 - val_loss: 0.0022\n",
            "Epoch 4/50\n",
            "\u001b[1m188/188\u001b[0m \u001b[32m━━━━━━━━━━━━━━━━━━━━\u001b[0m\u001b[37m\u001b[0m \u001b[1m10s\u001b[0m 31ms/step - loss: 8.1689e-04 - val_loss: 0.0021\n",
            "Epoch 5/50\n",
            "\u001b[1m188/188\u001b[0m \u001b[32m━━━━━━━━━━━━━━━━━━━━\u001b[0m\u001b[37m\u001b[0m \u001b[1m7s\u001b[0m 39ms/step - loss: 9.5186e-04 - val_loss: 0.0020\n",
            "Epoch 6/50\n",
            "\u001b[1m188/188\u001b[0m \u001b[32m━━━━━━━━━━━━━━━━━━━━\u001b[0m\u001b[37m\u001b[0m \u001b[1m6s\u001b[0m 30ms/step - loss: 8.7039e-04 - val_loss: 0.0022\n",
            "Epoch 7/50\n",
            "\u001b[1m188/188\u001b[0m \u001b[32m━━━━━━━━━━━━━━━━━━━━\u001b[0m\u001b[37m\u001b[0m \u001b[1m8s\u001b[0m 42ms/step - loss: 0.0010 - val_loss: 0.0021\n",
            "Epoch 8/50\n",
            "\u001b[1m188/188\u001b[0m \u001b[32m━━━━━━━━━━━━━━━━━━━━\u001b[0m\u001b[37m\u001b[0m \u001b[1m8s\u001b[0m 31ms/step - loss: 9.5333e-04 - val_loss: 0.0021\n",
            "Epoch 9/50\n",
            "\u001b[1m188/188\u001b[0m \u001b[32m━━━━━━━━━━━━━━━━━━━━\u001b[0m\u001b[37m\u001b[0m \u001b[1m7s\u001b[0m 38ms/step - loss: 9.4415e-04 - val_loss: 0.0020\n",
            "Epoch 10/50\n",
            "\u001b[1m188/188\u001b[0m \u001b[32m━━━━━━━━━━━━━━━━━━━━\u001b[0m\u001b[37m\u001b[0m \u001b[1m6s\u001b[0m 31ms/step - loss: 8.2762e-04 - val_loss: 0.0020\n",
            "Epoch 11/50\n",
            "\u001b[1m188/188\u001b[0m \u001b[32m━━━━━━━━━━━━━━━━━━━━\u001b[0m\u001b[37m\u001b[0m \u001b[1m10s\u001b[0m 32ms/step - loss: 9.3372e-04 - val_loss: 0.0020\n",
            "Epoch 12/50\n",
            "\u001b[1m188/188\u001b[0m \u001b[32m━━━━━━━━━━━━━━━━━━━━\u001b[0m\u001b[37m\u001b[0m \u001b[1m7s\u001b[0m 38ms/step - loss: 9.2269e-04 - val_loss: 0.0020\n",
            "Epoch 13/50\n",
            "\u001b[1m188/188\u001b[0m \u001b[32m━━━━━━━━━━━━━━━━━━━━\u001b[0m\u001b[37m\u001b[0m \u001b[1m6s\u001b[0m 32ms/step - loss: 9.7522e-04 - val_loss: 0.0021\n",
            "Epoch 14/50\n",
            "\u001b[1m188/188\u001b[0m \u001b[32m━━━━━━━━━━━━━━━━━━━━\u001b[0m\u001b[37m\u001b[0m \u001b[1m10s\u001b[0m 31ms/step - loss: 8.0859e-04 - val_loss: 0.0020\n",
            "Epoch 15/50\n",
            "\u001b[1m188/188\u001b[0m \u001b[32m━━━━━━━━━━━━━━━━━━━━\u001b[0m\u001b[37m\u001b[0m \u001b[1m10s\u001b[0m 31ms/step - loss: 9.5449e-04 - val_loss: 0.0021\n",
            "Epoch 16/50\n",
            "\u001b[1m188/188\u001b[0m \u001b[32m━━━━━━━━━━━━━━━━━━━━\u001b[0m\u001b[37m\u001b[0m \u001b[1m11s\u001b[0m 36ms/step - loss: 8.7167e-04 - val_loss: 0.0021\n",
            "Epoch 17/50\n",
            "\u001b[1m188/188\u001b[0m \u001b[32m━━━━━━━━━━━━━━━━━━━━\u001b[0m\u001b[37m\u001b[0m \u001b[1m11s\u001b[0m 39ms/step - loss: 8.3139e-04 - val_loss: 0.0021\n",
            "Epoch 18/50\n",
            "\u001b[1m188/188\u001b[0m \u001b[32m━━━━━━━━━━━━━━━━━━━━\u001b[0m\u001b[37m\u001b[0m \u001b[1m11s\u001b[0m 40ms/step - loss: 8.5045e-04 - val_loss: 0.0020\n",
            "Epoch 19/50\n",
            "\u001b[1m188/188\u001b[0m \u001b[32m━━━━━━━━━━━━━━━━━━━━\u001b[0m\u001b[37m\u001b[0m \u001b[1m6s\u001b[0m 31ms/step - loss: 8.6376e-04 - val_loss: 0.0021\n",
            "Epoch 20/50\n",
            "\u001b[1m188/188\u001b[0m \u001b[32m━━━━━━━━━━━━━━━━━━━━\u001b[0m\u001b[37m\u001b[0m \u001b[1m11s\u001b[0m 35ms/step - loss: 8.5887e-04 - val_loss: 0.0019\n",
            "Epoch 21/50\n",
            "\u001b[1m188/188\u001b[0m \u001b[32m━━━━━━━━━━━━━━━━━━━━\u001b[0m\u001b[37m\u001b[0m \u001b[1m7s\u001b[0m 36ms/step - loss: 9.5245e-04 - val_loss: 0.0019\n",
            "Epoch 22/50\n",
            "\u001b[1m188/188\u001b[0m \u001b[32m━━━━━━━━━━━━━━━━━━━━\u001b[0m\u001b[37m\u001b[0m \u001b[1m6s\u001b[0m 33ms/step - loss: 8.9569e-04 - val_loss: 0.0020\n",
            "Epoch 23/50\n",
            "\u001b[1m188/188\u001b[0m \u001b[32m━━━━━━━━━━━━━━━━━━━━\u001b[0m\u001b[37m\u001b[0m \u001b[1m7s\u001b[0m 39ms/step - loss: 8.9026e-04 - val_loss: 0.0019\n",
            "Epoch 24/50\n",
            "\u001b[1m188/188\u001b[0m \u001b[32m━━━━━━━━━━━━━━━━━━━━\u001b[0m\u001b[37m\u001b[0m \u001b[1m6s\u001b[0m 31ms/step - loss: 8.8007e-04 - val_loss: 0.0019\n",
            "Epoch 25/50\n",
            "\u001b[1m188/188\u001b[0m \u001b[32m━━━━━━━━━━━━━━━━━━━━\u001b[0m\u001b[37m\u001b[0m \u001b[1m11s\u001b[0m 37ms/step - loss: 8.0692e-04 - val_loss: 0.0019\n",
            "Epoch 26/50\n",
            "\u001b[1m188/188\u001b[0m \u001b[32m━━━━━━━━━━━━━━━━━━━━\u001b[0m\u001b[37m\u001b[0m \u001b[1m7s\u001b[0m 35ms/step - loss: 8.7344e-04 - val_loss: 0.0019\n",
            "Epoch 27/50\n",
            "\u001b[1m188/188\u001b[0m \u001b[32m━━━━━━━━━━━━━━━━━━━━\u001b[0m\u001b[37m\u001b[0m \u001b[1m6s\u001b[0m 33ms/step - loss: 9.3879e-04 - val_loss: 0.0019\n",
            "Epoch 28/50\n",
            "\u001b[1m188/188\u001b[0m \u001b[32m━━━━━━━━━━━━━━━━━━━━\u001b[0m\u001b[37m\u001b[0m \u001b[1m7s\u001b[0m 37ms/step - loss: 9.0232e-04 - val_loss: 0.0019\n",
            "Epoch 29/50\n",
            "\u001b[1m188/188\u001b[0m \u001b[32m━━━━━━━━━━━━━━━━━━━━\u001b[0m\u001b[37m\u001b[0m \u001b[1m6s\u001b[0m 33ms/step - loss: 9.2005e-04 - val_loss: 0.0019\n",
            "Epoch 30/50\n",
            "\u001b[1m188/188\u001b[0m \u001b[32m━━━━━━━━━━━━━━━━━━━━\u001b[0m\u001b[37m\u001b[0m \u001b[1m7s\u001b[0m 38ms/step - loss: 9.5731e-04 - val_loss: 0.0019\n",
            "Epoch 31/50\n",
            "\u001b[1m188/188\u001b[0m \u001b[32m━━━━━━━━━━━━━━━━━━━━\u001b[0m\u001b[37m\u001b[0m \u001b[1m9s\u001b[0m 32ms/step - loss: 8.9211e-04 - val_loss: 0.0018\n",
            "Epoch 32/50\n",
            "\u001b[1m188/188\u001b[0m \u001b[32m━━━━━━━━━━━━━━━━━━━━\u001b[0m\u001b[37m\u001b[0m \u001b[1m10s\u001b[0m 32ms/step - loss: 9.1458e-04 - val_loss: 0.0019\n",
            "Epoch 33/50\n",
            "\u001b[1m188/188\u001b[0m \u001b[32m━━━━━━━━━━━━━━━━━━━━\u001b[0m\u001b[37m\u001b[0m \u001b[1m7s\u001b[0m 38ms/step - loss: 8.6430e-04 - val_loss: 0.0024\n",
            "Epoch 34/50\n",
            "\u001b[1m188/188\u001b[0m \u001b[32m━━━━━━━━━━━━━━━━━━━━\u001b[0m\u001b[37m\u001b[0m \u001b[1m6s\u001b[0m 31ms/step - loss: 8.7716e-04 - val_loss: 0.0018\n",
            "Epoch 35/50\n",
            "\u001b[1m188/188\u001b[0m \u001b[32m━━━━━━━━━━━━━━━━━━━━\u001b[0m\u001b[37m\u001b[0m \u001b[1m10s\u001b[0m 32ms/step - loss: 8.6813e-04 - val_loss: 0.0019\n",
            "Epoch 36/50\n",
            "\u001b[1m188/188\u001b[0m \u001b[32m━━━━━━━━━━━━━━━━━━━━\u001b[0m\u001b[37m\u001b[0m \u001b[1m7s\u001b[0m 39ms/step - loss: 0.0011 - val_loss: 0.0019\n",
            "Epoch 37/50\n",
            "\u001b[1m188/188\u001b[0m \u001b[32m━━━━━━━━━━━━━━━━━━━━\u001b[0m\u001b[37m\u001b[0m \u001b[1m9s\u001b[0m 31ms/step - loss: 9.2221e-04 - val_loss: 0.0020\n",
            "Epoch 38/50\n",
            "\u001b[1m188/188\u001b[0m \u001b[32m━━━━━━━━━━━━━━━━━━━━\u001b[0m\u001b[37m\u001b[0m \u001b[1m10s\u001b[0m 30ms/step - loss: 8.9024e-04 - val_loss: 0.0020\n",
            "Epoch 39/50\n",
            "\u001b[1m188/188\u001b[0m \u001b[32m━━━━━━━━━━━━━━━━━━━━\u001b[0m\u001b[37m\u001b[0m \u001b[1m10s\u001b[0m 32ms/step - loss: 8.1971e-04 - val_loss: 0.0018\n",
            "Epoch 40/50\n",
            "\u001b[1m188/188\u001b[0m \u001b[32m━━━━━━━━━━━━━━━━━━━━\u001b[0m\u001b[37m\u001b[0m \u001b[1m10s\u001b[0m 32ms/step - loss: 8.3741e-04 - val_loss: 0.0018\n",
            "Epoch 41/50\n",
            "\u001b[1m188/188\u001b[0m \u001b[32m━━━━━━━━━━━━━━━━━━━━\u001b[0m\u001b[37m\u001b[0m \u001b[1m8s\u001b[0m 41ms/step - loss: 8.6281e-04 - val_loss: 0.0018\n",
            "Epoch 42/50\n",
            "\u001b[1m188/188\u001b[0m \u001b[32m━━━━━━━━━━━━━━━━━━━━\u001b[0m\u001b[37m\u001b[0m \u001b[1m8s\u001b[0m 31ms/step - loss: 8.6896e-04 - val_loss: 0.0018\n",
            "Epoch 43/50\n",
            "\u001b[1m188/188\u001b[0m \u001b[32m━━━━━━━━━━━━━━━━━━━━\u001b[0m\u001b[37m\u001b[0m \u001b[1m7s\u001b[0m 39ms/step - loss: 8.5919e-04 - val_loss: 0.0018\n",
            "Epoch 44/50\n",
            "\u001b[1m188/188\u001b[0m \u001b[32m━━━━━━━━━━━━━━━━━━━━\u001b[0m\u001b[37m\u001b[0m \u001b[1m6s\u001b[0m 31ms/step - loss: 9.8440e-04 - val_loss: 0.0018\n",
            "Epoch 45/50\n",
            "\u001b[1m188/188\u001b[0m \u001b[32m━━━━━━━━━━━━━━━━━━━━\u001b[0m\u001b[37m\u001b[0m \u001b[1m10s\u001b[0m 32ms/step - loss: 9.2294e-04 - val_loss: 0.0018\n",
            "Epoch 46/50\n",
            "\u001b[1m188/188\u001b[0m \u001b[32m━━━━━━━━━━━━━━━━━━━━\u001b[0m\u001b[37m\u001b[0m \u001b[1m10s\u001b[0m 32ms/step - loss: 7.8799e-04 - val_loss: 0.0019\n",
            "Epoch 47/50\n",
            "\u001b[1m188/188\u001b[0m \u001b[32m━━━━━━━━━━━━━━━━━━━━\u001b[0m\u001b[37m\u001b[0m \u001b[1m7s\u001b[0m 39ms/step - loss: 9.2972e-04 - val_loss: 0.0019\n",
            "Epoch 48/50\n",
            "\u001b[1m188/188\u001b[0m \u001b[32m━━━━━━━━━━━━━━━━━━━━\u001b[0m\u001b[37m\u001b[0m \u001b[1m6s\u001b[0m 32ms/step - loss: 8.4189e-04 - val_loss: 0.0019\n",
            "Epoch 49/50\n",
            "\u001b[1m188/188\u001b[0m \u001b[32m━━━━━━━━━━━━━━━━━━━━\u001b[0m\u001b[37m\u001b[0m \u001b[1m10s\u001b[0m 33ms/step - loss: 8.8262e-04 - val_loss: 0.0019\n",
            "Epoch 50/50\n",
            "\u001b[1m188/188\u001b[0m \u001b[32m━━━━━━━━━━━━━━━━━━━━\u001b[0m\u001b[37m\u001b[0m \u001b[1m11s\u001b[0m 39ms/step - loss: 0.0010 - val_loss: 0.0018\n"
          ]
        }
      ],
      "source": [
        "# Configure the training, by using appropriate optimizers, regularizations and loss functions\n",
        "##---------Type the code below this line------------------##\n",
        "\n",
        "history = model.fit(X_train, y_train, epochs=50, batch_size=16, validation_data=(X_test, y_test), verbose=1)"
      ]
    },
    {
      "cell_type": "markdown",
      "id": "06f1173c",
      "metadata": {
        "id": "06f1173c"
      },
      "source": [
        "# 6. Test the model\n"
      ]
    },
    {
      "cell_type": "code",
      "execution_count": 11,
      "id": "7042235d",
      "metadata": {
        "id": "7042235d",
        "colab": {
          "base_uri": "https://localhost:8080/"
        },
        "outputId": "c0c604af-3932-4afa-bd8d-456bb948eb5f"
      },
      "outputs": [
        {
          "output_type": "stream",
          "name": "stdout",
          "text": [
            "\u001b[1m24/24\u001b[0m \u001b[32m━━━━━━━━━━━━━━━━━━━━\u001b[0m\u001b[37m\u001b[0m \u001b[1m1s\u001b[0m 21ms/step\n",
            "RMSE: 0.04632014796704462\n",
            "MAPE: 0.1725285076107788\n",
            "R^2 Score: 0.8848612709979264\n"
          ]
        }
      ],
      "source": [
        "##---------Type the code below this line------------------##\n",
        "\n",
        "# Making predictions\n",
        "y_pred = model.predict(X_test)\n",
        "\n",
        "# Computing evaluation metrics\n",
        "rmse = np.sqrt(mean_squared_error(y_test, y_pred))\n",
        "mape = mean_absolute_percentage_error(y_test, y_pred)\n",
        "r2 = r2_score(y_test, y_pred)\n",
        "\n",
        "print(f'RMSE: {rmse}')\n",
        "print(f'MAPE: {mape}')\n",
        "print(f'R^2 Score: {r2}')"
      ]
    },
    {
      "cell_type": "markdown",
      "id": "eb57940c",
      "metadata": {
        "id": "eb57940c"
      },
      "source": [
        "# 7. Report the result\n",
        "\n",
        "1. Plot the training and validation accuracy history.\n",
        "2. Plot the training and validation loss history.\n",
        "3. Report the testing accuracy and loss.\n",
        "4. Show Confusion Matrix for testing dataset.\n",
        "5. Report values for preformance study metrics like accuracy, precision, recall, F1 Score.\n"
      ]
    },
    {
      "cell_type": "code",
      "execution_count": 22,
      "id": "cf409d22",
      "metadata": {
        "colab": {
          "base_uri": "https://localhost:8080/",
          "height": 949
        },
        "id": "cf409d22",
        "outputId": "9bc0b33c-634a-4fd6-9b10-231771b9acf5"
      },
      "outputs": [
        {
          "output_type": "display_data",
          "data": {
            "text/plain": [
              "<Figure size 1200x500 with 1 Axes>"
            ],
            "image/png": "[encoded data removed]"
          },
          "metadata": {}
        },
        {
          "output_type": "display_data",
          "data": {
            "text/plain": [
              "<Figure size 600x400 with 2 Axes>"
            ],
            "image/png": "[encoded data removed]"
          },
          "metadata": {}
        },
        {
          "output_type": "stream",
          "name": "stdout",
          "text": [
            "Accuracy: 0.9198931909212283\n",
            "Precision: 0.95\n",
            "Recall: 0.8525641025641025\n",
            "F1 Score: 0.8986486486486487\n"
          ]
        }
      ],
      "source": [
        "##---------Type the code below this line------------------##\n",
        "# Ploting Training & Validation Loss\n",
        "plt.figure(figsize=(12,5))\n",
        "plt.plot(history.history['loss'], label='Training Loss')\n",
        "plt.plot(history.history['val_loss'], label='Validation Loss')\n",
        "plt.title('Training and Validation Loss')\n",
        "plt.xlabel('Epochs')\n",
        "plt.ylabel('Loss')\n",
        "plt.legend()\n",
        "plt.show()\n",
        "\n",
        "# Convert predictions to binary (1 if above mean, 0 otherwise)\n",
        "threshold = np.mean(y_train)\n",
        "y_test_bin = (y_test > threshold).astype(int)\n",
        "y_pred_bin = (y_pred > threshold).astype(int)\n",
        "\n",
        "# Confusion Matrix\n",
        "conf_matrix = confusion_matrix(y_test_bin, y_pred_bin)\n",
        "plt.figure(figsize=(6,4))\n",
        "sns.heatmap(conf_matrix, annot=True, fmt='d', cmap='Blues')\n",
        "plt.xlabel('Predicted')\n",
        "plt.ylabel('Actual')\n",
        "plt.title('Confusion Matrix')\n",
        "plt.show()\n",
        "\n",
        "# Classification Metrics\n",
        "accuracy = accuracy_score(y_test_bin, y_pred_bin)\n",
        "precision = precision_score(y_test_bin, y_pred_bin)\n",
        "recall = recall_score(y_test_bin, y_pred_bin)\n",
        "f1 = f1_score(y_test_bin, y_pred_bin)\n",
        "\n",
        "print(f'Accuracy: {accuracy}')\n",
        "print(f'Precision: {precision}')\n",
        "print(f'Recall: {recall}')\n",
        "print(f'F1 Score: {f1}')"
      ]
    },
    {
      "cell_type": "markdown",
      "id": "RcDDQlfbZQ7E",
      "metadata": {
        "id": "RcDDQlfbZQ7E"
      },
      "source": [
        "### NOTE\n",
        "\n",
        "\n",
        "All Late Submissions will incur a <b>penalty of -2 marks </b>. So submit your assignments on time.\n",
        "\n",
        "Good Luck"
      ]
    }
  ],
  "metadata": {
    "colab": {
      "provenance": []
    },
    "kernelspec": {
      "display_name": "Python 3 (ipykernel)",
      "language": "python",
      "name": "python3"
    },
    "language_info": {
      "codemirror_mode": {
        "name": "ipython",
        "version": 3
      },
      "file_extension": ".py",
      "mimetype": "text/x-python",
      "name": "python",
      "nbconvert_exporter": "python",
      "pygments_lexer": "ipython3",
      "version": "3.8.10"
    }
  },
  "nbformat": 4,
  "nbformat_minor": 5
}